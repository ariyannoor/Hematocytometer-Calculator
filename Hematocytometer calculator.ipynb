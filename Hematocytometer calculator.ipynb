{
 "cells": [
  {
   "cell_type": "code",
   "execution_count": 76,
   "id": "2b7c1d4c-0ca4-4084-b23f-e032b44c6179",
   "metadata": {},
   "outputs": [
    {
     "name": "stdout",
     "output_type": "stream",
     "text": [
      "Your average counted cells in each quadrant is -->   150.0\n",
      "Your cell suspension conentration is --> 15000.0 cells/uL\n",
      "Total amount of cell suspension required ---> 280.0 uL\n",
      "To 27720.0 uL of DMEM/FBS, add 280.0 uL of cell suspension\n"
     ]
    }
   ],
   "source": [
    "# how many cells have you counted\n",
    "cell_counts = 300\n",
    "# how many quadrants have you counted\n",
    "quadrant_counts = 2\n",
    "# Number of cells you want to plate\n",
    "number_required = 300000\n",
    "# Always add additional wells for pipetting accuracy\n",
    "number_well = 14\n",
    "# working vol of each well (uL)\n",
    "DMEM = 2000\n",
    "\n",
    "number_of_cells_total_counted = cell_counts / quadrant_counts\n",
    "print(\n",
    "    \"Your average counted cells in each quadrant is -->   \"\n",
    "    + str(number_of_cells_total_counted)\n",
    ")\n",
    "\n",
    "Cells_per_uL = number_of_cells_total_counted * 100\n",
    "print(\"Your cell suspension conentration is --> \" + str(Cells_per_uL) + \" cells/uL\")\n",
    "\n",
    "Cell_suspension_vol = (number_required / Cells_per_uL) * number_well\n",
    "print(\n",
    "    \"Total amount of cell suspension required ---> \" + str(Cell_suspension_vol) + \" uL\"\n",
    ")\n",
    "\n",
    "number_DMEM = number_well * DMEM\n",
    "number_DMEM_required = number_DMEM - Cell_suspension_vol\n",
    "\n",
    "print(\n",
    "    \"To \"\n",
    "    + str(number_DMEM_required)\n",
    "    + \" uL of DMEM/FBS, add \"\n",
    "    + str(Cell_suspension_vol)\n",
    "    + \" uL of cell suspension\"\n",
    ")"
   ]
  }
 ],
 "metadata": {
  "kernelspec": {
   "display_name": "Python 3 (ipykernel)",
   "language": "python",
   "name": "python3"
  },
  "language_info": {
   "codemirror_mode": {
    "name": "ipython",
    "version": 3
   },
   "file_extension": ".py",
   "mimetype": "text/x-python",
   "name": "python",
   "nbconvert_exporter": "python",
   "pygments_lexer": "ipython3",
   "version": "3.11.7"
  }
 },
 "nbformat": 4,
 "nbformat_minor": 5
}
